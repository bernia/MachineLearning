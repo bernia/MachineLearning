{
  "nbformat": 4,
  "nbformat_minor": 0,
  "metadata": {
    "colab": {
      "name": "irisFlowers_problem.ipynb",
      "provenance": [],
      "collapsed_sections": [],
      "include_colab_link": true
    },
    "kernelspec": {
      "name": "python3",
      "display_name": "Python 3"
    }
  },
  "cells": [
    {
      "cell_type": "markdown",
      "metadata": {
        "id": "view-in-github",
        "colab_type": "text"
      },
      "source": [
        "<a href=\"https://colab.research.google.com/github/bernia/MachineLearning/blob/master/irisFlowers_problem.ipynb\" target=\"_parent\"><img src=\"https://colab.research.google.com/assets/colab-badge.svg\" alt=\"Open In Colab\"/></a>"
      ]
    },
    {
      "cell_type": "markdown",
      "metadata": {
        "id": "ifdJUp9ZVajE",
        "colab_type": "text"
      },
      "source": [
        "## Inicializacion y carga de datos"
      ]
    },
    {
      "cell_type": "code",
      "metadata": {
        "id": "Z8TMYr_wvePm",
        "colab_type": "code",
        "colab": {}
      },
      "source": [
        "import numpy as np\n",
        "import scipy as sc\n",
        "import tensorflow as tf\n",
        "import pandas as pd\n",
        "import seaborn as sns\n",
        "from pandas import get_dummies\n",
        "from sklearn.preprocessing import OneHotEncoder\n",
        "from sklearn.datasets import load_iris\n",
        "from sklearn.model_selection import train_test_split\n",
        "\n",
        "#Carga de datos\n",
        "data = load_iris()\n",
        "X = data.data\n",
        "Y = data.target"
      ],
      "execution_count": 0,
      "outputs": []
    },
    {
      "cell_type": "markdown",
      "metadata": {
        "id": "4qP5VcJhVWMZ",
        "colab_type": "text"
      },
      "source": [
        "## Preproceso de datos"
      ]
    },
    {
      "cell_type": "code",
      "metadata": {
        "id": "i1hXO_Sf9aqw",
        "colab_type": "code",
        "colab": {
          "base_uri": "https://localhost:8080/",
          "height": 51
        },
        "outputId": "ce471c89-bda5-4e56-b654-2583e155acd7"
      },
      "source": [
        "# Normalizacon de las muestras - Media 0 y Des. Tipica 1.0\n",
        "for i in range(len(X)):\n",
        "  X[i] = (X[i] - X[i].mean())/X[i].std()\n",
        "\n",
        "# Partición y mezcla aleatoria de los datos\n",
        "\n",
        "# Creamos una tabla con las muestras por fila\n",
        "# y las caracteristicas por columnas\n",
        "data_norm_X = pd.DataFrame(X)\n",
        "data_Y = pd.DataFrame(Y)\n",
        "\n",
        "# Mezclamos los datos\n",
        "indices = data_norm_X.index.tolist()\n",
        "indices = np.array(indices)\n",
        "np.random.shuffle(indices)\n",
        "X = data_norm_X.reindex(indices)\n",
        "Y = data_Y.reindex(indices)\n",
        "\n",
        "# Conjuntos de entrenamiento y Validacion\n",
        "# Pasamos la salida a formato One Hot Encoding\n",
        "Y = get_dummies(Y,columns=[0])\n",
        "X_train, X_test, Y_train, Y_test = train_test_split(X,Y, test_size=.3)\n",
        "\n",
        "# Convertimos los conjuntos a nparrays para usarlos con tensorflow\n",
        "X_train = np.array(X_train).astype(np.float32)\n",
        "X_test  = np.array(X_test).astype(np.float32)\n",
        "Y_train = np.array(Y_train).astype(np.float32)\n",
        "Y_test  = np.array(Y_test).astype(np.float32)\n",
        "\n",
        "#Check to make sure split still has 4 features and 3 labels\n",
        "print(X_train.shape, Y_train.shape)\n",
        "print(X_test.shape, Y_test.shape)"
      ],
      "execution_count": 8,
      "outputs": [
        {
          "output_type": "stream",
          "text": [
            "(105, 4) (105, 3)\n",
            "(45, 4) (45, 3)\n"
          ],
          "name": "stdout"
        }
      ]
    },
    {
      "cell_type": "markdown",
      "metadata": {
        "id": "4K_EBqdnVjjk",
        "colab_type": "text"
      },
      "source": [
        "## Entrenamiento y test de la red"
      ]
    },
    {
      "cell_type": "code",
      "metadata": {
        "id": "MRMYrfYXVjPw",
        "colab_type": "code",
        "colab": {}
      },
      "source": [
        "# Red neuronal\n",
        "\n",
        "# Definimos los puntos de entrada de la red, para la matriz X e Y.\n",
        "#iX = tf.placeholder('float', shape=[None, X_train.shape[1]])\n",
        "#iY = tf.placeholder('float', shape=[None])\n",
        "\n",
        "num_features = X_train.shape[1]   # Numero de caracteristicas\n",
        "num_labels = Y_train.shape[1]     # Numero de etiquetas\n",
        "\n",
        "graph = tf.Graph()\n",
        "with graph.as_default():\n",
        "    tf_train_set    = tf.constant(X_train)\n",
        "    tf_train_labels = tf.constant(Y_train)\n",
        "    tf_valid_set    = tf.constant(X_test)\n",
        "\n",
        "    lr = 0.01\n",
        "    nn = [num_features , 20 , 12 , num_labels] # Neuronas por capa\n",
        "\n",
        "    # Capa 1\n",
        "    W1 = tf.Variable(tf.truncated_normal([nn[0], nn[1]]), name='Weights_1')\n",
        "    b1 = tf.Variable(tf.zeros([nn[1]]), name='bias_1')\n",
        "\n",
        "    l1 = tf.nn.relu(tf.add(tf.matmul(tf_train_set, W1), b1))\n",
        "\n",
        "    # Capa 2\n",
        "    W2 = tf.Variable(tf.truncated_normal([nn[1], nn[2]]), name='Weights_2')\n",
        "    b2 = tf.Variable(tf.zeros([nn[2]]), name='bias_2')\n",
        "\n",
        "    l2 = tf.nn.relu(tf.add(tf.matmul(l1, W2), b2))\n",
        "\n",
        "    # Capa 3\n",
        "    W3 = tf.Variable(tf.truncated_normal([nn[2], nn[3]]), name='Weights_3')\n",
        "    b3 = tf.Variable(tf.zeros([nn[3]]), name='bias_3')\n",
        "\n",
        "    # Salida - sin aplicar funcion de activacion\n",
        "    out = tf.add(tf.matmul(l2,W3),b3)\n",
        "\n",
        "    # Evaluación de la salida\n",
        "    loss = tf.reduce_mean(tf.nn.softmax_cross_entropy_with_logits(logits=out, labels=tf_train_labels))\n",
        "\n",
        "    # Optimizador\n",
        "    optimizer = tf.train.GradientDescentOptimizer(learning_rate=0.005).minimize(loss)\n",
        "\n",
        "    # Prediccion de salida de entrenamiento\n",
        "    predict_train = tf.nn.softmax(out)\n",
        "\n",
        "    # Prediccion de validacion\n",
        "    l1v = tf.nn.relu(tf.matmul(tf_valid_set, W1) + b1)\n",
        "    l2v = tf.nn.relu(tf.matmul(l1v, W2) + b2)\n",
        "    predict_valid = tf.nn.softmax(tf.matmul(l2v, W3) + b3)\n"
      ],
      "execution_count": 0,
      "outputs": []
    },
    {
      "cell_type": "markdown",
      "metadata": {
        "id": "EnQhlffbOEwN",
        "colab_type": "text"
      },
      "source": [
        "### Pruebas"
      ]
    },
    {
      "cell_type": "code",
      "metadata": {
        "id": "7PMYi7qhOHzR",
        "colab_type": "code",
        "colab": {
          "base_uri": "https://localhost:8080/",
          "height": 374
        },
        "outputId": "716bee04-98a7-45a4-c67a-3f0b479fe4a4"
      },
      "source": [
        "# Funcion de precision\n",
        "def accuracy(predictions, labels):\n",
        "  return (100.0 * np.sum(np.argmax(predictions, 1) == np.argmax(labels, 1))\n",
        "          / predictions.shape[0])\n",
        "\n",
        "# Prueba de la red\n",
        "num_steps = 10000\n",
        "with tf.Session(graph = graph) as session:\n",
        "    tf.initialize_all_variables().run()\n",
        "    print(loss.eval())\n",
        "    for step in range(num_steps):\n",
        "        _,l, predictions = session.run([optimizer, loss, predict_train])\n",
        "        \n",
        "        if (step % 2000 == 0):\n",
        "              print(\"-----------------------------------\")\n",
        "              print('Loss at step %d: %f' % (step, l))\n",
        "              print('Training accuracy: %.1f%%' % accuracy( predictions, Y_train[:, :]))\n",
        "              print('Validation accuracy: %.1f%%' % accuracy(predict_valid.eval(), Y_test))"
      ],
      "execution_count": 33,
      "outputs": [
        {
          "output_type": "stream",
          "text": [
            "4.281425\n",
            "-----------------------------------\n",
            "Loss at step 0: 4.281425\n",
            "Training accuracy: 32.4%\n",
            "Validation accuracy: 35.6%\n",
            "-----------------------------------\n",
            "Loss at step 2000: 0.112692\n",
            "Training accuracy: 96.2%\n",
            "Validation accuracy: 95.6%\n",
            "-----------------------------------\n",
            "Loss at step 4000: 0.106708\n",
            "Training accuracy: 96.2%\n",
            "Validation accuracy: 95.6%\n",
            "-----------------------------------\n",
            "Loss at step 6000: 0.104746\n",
            "Training accuracy: 96.2%\n",
            "Validation accuracy: 95.6%\n",
            "-----------------------------------\n",
            "Loss at step 8000: 0.103550\n",
            "Training accuracy: 96.2%\n",
            "Validation accuracy: 95.6%\n"
          ],
          "name": "stdout"
        }
      ]
    }
  ]
}