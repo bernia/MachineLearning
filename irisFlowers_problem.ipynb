{
  "nbformat": 4,
  "nbformat_minor": 0,
  "metadata": {
    "colab": {
      "name": "irisFlowers_problem.ipynb",
      "provenance": [],
      "collapsed_sections": [],
      "include_colab_link": true
    },
    "kernelspec": {
      "name": "python3",
      "display_name": "Python 3"
    }
  },
  "cells": [
    {
      "cell_type": "markdown",
      "metadata": {
        "id": "view-in-github",
        "colab_type": "text"
      },
      "source": [
        "<a href=\"https://colab.research.google.com/github/bernia/MachineLearning/blob/master/irisFlowers_problem.ipynb\" target=\"_parent\"><img src=\"https://colab.research.google.com/assets/colab-badge.svg\" alt=\"Open In Colab\"/></a>"
      ]
    },
    {
      "cell_type": "markdown",
      "metadata": {
        "id": "ifdJUp9ZVajE",
        "colab_type": "text"
      },
      "source": [
        "## Inicializacion y carga de datos"
      ]
    },
    {
      "cell_type": "code",
      "metadata": {
        "id": "Z8TMYr_wvePm",
        "colab_type": "code",
        "colab": {}
      },
      "source": [
        "import numpy as np\n",
        "import scipy as sc\n",
        "import tensorflow as tf\n",
        "import pandas as pd\n",
        "import seaborn as sns\n",
        "from pandas import get_dummies\n",
        "from sklearn.preprocessing import OneHotEncoder\n",
        "from sklearn.datasets import load_iris\n",
        "from sklearn.model_selection import train_test_split\n",
        "\n",
        "#Carga de datos\n",
        "data = load_iris()\n",
        "X = data.data\n",
        "Y = data.target"
      ],
      "execution_count": 0,
      "outputs": []
    },
    {
      "cell_type": "markdown",
      "metadata": {
        "id": "4qP5VcJhVWMZ",
        "colab_type": "text"
      },
      "source": [
        "## Preproceso de datos"
      ]
    },
    {
      "cell_type": "code",
      "metadata": {
        "id": "i1hXO_Sf9aqw",
        "colab_type": "code",
        "colab": {
          "base_uri": "https://localhost:8080/",
          "height": 51
        },
        "outputId": "0f5c7eb0-f12d-44bd-9157-1cc522d6486f"
      },
      "source": [
        "# Normalizacon de las muestras - Media 0 y Des. Tipica 1.0\n",
        "for i in range(len(X)):\n",
        "  X[i] = (X[i] - X[i].mean())/X[i].std()\n",
        "\n",
        "# Partición y mezcla aleatoria de los datos\n",
        "\n",
        "# Creamos una tabla con las muestras por fila\n",
        "# y las caracteristicas por columnas\n",
        "data_norm_X = pd.DataFrame(X)\n",
        "data_Y = pd.DataFrame(Y)\n",
        "\n",
        "# Mezclamos los datos\n",
        "indices = data_norm_X.index.tolist()\n",
        "indices = np.array(indices)\n",
        "np.random.shuffle(indices)\n",
        "X = data_norm_X.reindex(indices)\n",
        "Y = data_Y.reindex(indices)\n",
        "\n",
        "# Conjuntos de entrenamiento y Validacion\n",
        "# Pasamos la salida a formato One Hot Encoding\n",
        "Y = get_dummies(Y,columns=[0])\n",
        "X_train, X_test, Y_train, Y_test = train_test_split(X,Y, test_size=.3)\n",
        "\n",
        "# Convertimos los conjuntos a nparrays para usarlos con tensorflow\n",
        "X_train = np.array(X_train).astype(np.float32)\n",
        "X_test  = np.array(X_test).astype(np.float32)\n",
        "Y_train = np.array(Y_train).astype(np.float32)\n",
        "Y_test  = np.array(Y_test).astype(np.float32)\n",
        "\n",
        "#Check to make sure split still has 4 features and 3 labels\n",
        "print(X_train.shape, Y_train.shape)\n",
        "print(X_test.shape, Y_test.shape)"
      ],
      "execution_count": 3,
      "outputs": [
        {
          "output_type": "stream",
          "text": [
            "(105, 4) (105, 3)\n",
            "(45, 4) (45, 3)\n"
          ],
          "name": "stdout"
        }
      ]
    },
    {
      "cell_type": "markdown",
      "metadata": {
        "id": "4K_EBqdnVjjk",
        "colab_type": "text"
      },
      "source": [
        "## Entrenamiento y test de la red"
      ]
    },
    {
      "cell_type": "code",
      "metadata": {
        "id": "MRMYrfYXVjPw",
        "colab_type": "code",
        "colab": {}
      },
      "source": [
        "# Red neuronal\n",
        "\n",
        "# Definimos los puntos de entrada de la red, para la matriz X e Y.\n",
        "iX = tf.placeholder('float', shape=[None, X_train.shape[1]])\n",
        "iY = tf.placeholder('float', shape=[None])\n",
        "\n",
        "num_features = X_train.shape[1]   # Numero de caracteristicas\n",
        "num_labels = Y_train.shape[1]     # Numero de etiquetas\n",
        "lr = 0.01\n",
        "nn = [num_features , 20 , 12 , num_labels] # Neuronas por capa\n",
        "\n",
        "# Capa 1\n",
        "W1 = tf.Variable(tf.truncated_normal([nn[0], nn[1]]), name='Weights_1')\n",
        "b1 = tf.Variable(tf.zeros([nn[1]]), name='bias_1')\n",
        "\n",
        "l1 = tf.nn.relu(tf.add(tf.matmul(iX, W1), b1))\n",
        "\n",
        "# Capa 2\n",
        "W2 = tf.Variable(tf.truncated_normal([nn[1], nn[2]]), name='Weights_2')\n",
        "b2 = tf.Variable(tf.zeros([nn[2]]), name='bias_2')\n",
        "\n",
        "l2 = tf.nn.relu(tf.add(tf.matmul(l1, W2), b2))\n",
        "\n",
        "# Capa 3\n",
        "W3 = tf.Variable(tf.truncated_normal([nn[2], nn[3]]), name='Weights_3')\n",
        "b3 = tf.Variable(tf.zeros([nn[3]]), name='bias_3')\n",
        "\n",
        "# Vector de clasificacion - Salida\n",
        "pY = tf.nn.sigmoid(tf.add(tf.matmul(l2,W3),b3))[:,0]\n",
        "\n",
        "# Evaluación de la salida\n",
        "loss = tf.reduce_mean(tf.nn.softmax_cross_entropy_with_logits(pY, Y_train))"
      ],
      "execution_count": 0,
      "outputs": []
    }
  ]
}