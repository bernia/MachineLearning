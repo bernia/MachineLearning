{
  "nbformat": 4,
  "nbformat_minor": 0,
  "metadata": {
    "colab": {
      "name": "overfit_and_underfit_tutorial.ipynb",
      "provenance": [],
      "collapsed_sections": [],
      "authorship_tag": "ABX9TyOr9y9kUDQ5yLwiXtDkiuIv",
      "include_colab_link": true
    },
    "kernelspec": {
      "name": "python3",
      "display_name": "Python 3"
    }
  },
  "cells": [
    {
      "cell_type": "markdown",
      "metadata": {
        "id": "view-in-github",
        "colab_type": "text"
      },
      "source": [
        "<a href=\"https://colab.research.google.com/github/bernia/MachineLearning/blob/master/tf_tutorials/overfit_and_underfit_tutorial.ipynb\" target=\"_parent\"><img src=\"https://colab.research.google.com/assets/colab-badge.svg\" alt=\"Open In Colab\"/></a>"
      ]
    },
    {
      "cell_type": "markdown",
      "metadata": {
        "id": "Piavp5CzH8C0",
        "colab_type": "text"
      },
      "source": [
        "### Overfit and Underfit"
      ]
    },
    {
      "cell_type": "code",
      "metadata": {
        "id": "SI2kJ_B8H351",
        "colab_type": "code",
        "outputId": "72d799b4-e134-48be-962f-c8ac32bc469a",
        "colab": {
          "base_uri": "https://localhost:8080/",
          "height": 52
        }
      },
      "source": [
        "# Setup\n",
        "%tensorflow_version 2.x\n",
        "\n",
        "from __future__ import absolute_import, division, print_function, unicode_literals\n",
        "\n",
        "import tensorflow as tf\n",
        "\n",
        "from tensorflow.keras import layers\n",
        "from tensorflow.keras import regularizers\n",
        "\n",
        "print(tf.__version__)"
      ],
      "execution_count": 1,
      "outputs": [
        {
          "output_type": "stream",
          "text": [
            "TensorFlow 2.x selected.\n",
            "2.1.0\n"
          ],
          "name": "stdout"
        }
      ]
    },
    {
      "cell_type": "code",
      "metadata": {
        "colab_type": "code",
        "id": "NeWVBhf1VxlH",
        "outputId": "6ebd785c-8022-4684-8410-6207299ab1ba",
        "colab": {
          "base_uri": "https://localhost:8080/",
          "height": 35
        }
      },
      "source": [
        "!pip install -q git+https://github.com/tensorflow/docs\n",
        "\n",
        "import tensorflow_docs as tfdocs\n",
        "import tensorflow_docs.modeling\n",
        "import tensorflow_docs.plots"
      ],
      "execution_count": 2,
      "outputs": [
        {
          "output_type": "stream",
          "text": [
            "  Building wheel for tensorflow-docs (setup.py) ... \u001b[?25l\u001b[?25hdone\n"
          ],
          "name": "stdout"
        }
      ]
    },
    {
      "cell_type": "code",
      "metadata": {
        "id": "BV5oZzspJS62",
        "colab_type": "code",
        "colab": {}
      },
      "source": [
        "from  IPython import display\n",
        "from matplotlib import pyplot as plt\n",
        "\n",
        "import numpy as np\n",
        "\n",
        "import pathlib\n",
        "import shutil\n",
        "import tempfile\n",
        "\n",
        "logdir = pathlib.Path(tempfile.mkdtemp())/\"tensorboard_logs\"\n",
        "shutil.rmtree(logdir, ignore_errors=True)"
      ],
      "execution_count": 0,
      "outputs": []
    },
    {
      "cell_type": "code",
      "metadata": {
        "id": "tGaREABAJWec",
        "colab_type": "code",
        "outputId": "4b371fb8-df81-485b-8131-7f49bc369463",
        "colab": {
          "base_uri": "https://localhost:8080/",
          "height": 52
        }
      },
      "source": [
        "# Load Dataset\n",
        "\n",
        "gz = tf.keras.utils.get_file('HIGGS.csv.gz', 'https://archive.ics.uci.edu/ml/machine-learning-databases/00280/HIGGS.csv.gz')"
      ],
      "execution_count": 4,
      "outputs": [
        {
          "output_type": "stream",
          "text": [
            "Downloading data from https://archive.ics.uci.edu/ml/machine-learning-databases/00280/HIGGS.csv.gz\n",
            "2816409600/2816407858 [==============================] - 31s 0us/step\n"
          ],
          "name": "stdout"
        }
      ]
    },
    {
      "cell_type": "code",
      "metadata": {
        "id": "QwYbAAzxJcFk",
        "colab_type": "code",
        "colab": {}
      },
      "source": [
        "FEATURES = 28"
      ],
      "execution_count": 0,
      "outputs": []
    },
    {
      "cell_type": "code",
      "metadata": {
        "id": "Q-ry0bgnJi-t",
        "colab_type": "code",
        "colab": {}
      },
      "source": [
        "ds = tf.data.experimental.CsvDataset(gz,[float(),]*(FEATURES+1), compression_type=\"GZIP\")"
      ],
      "execution_count": 0,
      "outputs": []
    },
    {
      "cell_type": "code",
      "metadata": {
        "id": "Xstx3R8pJklu",
        "colab_type": "code",
        "colab": {}
      },
      "source": [
        "def pack_row(*row):\n",
        "  label = row[0]\n",
        "  features = tf.stack(row[1:],1)\n",
        "  return features, label"
      ],
      "execution_count": 0,
      "outputs": []
    },
    {
      "cell_type": "code",
      "metadata": {
        "id": "6uYLyyS2Jnz1",
        "colab_type": "code",
        "colab": {}
      },
      "source": [
        "packed_ds = ds.batch(10000).map(pack_row).unbatch()"
      ],
      "execution_count": 0,
      "outputs": []
    },
    {
      "cell_type": "code",
      "metadata": {
        "id": "bxiEQxwrJzB9",
        "colab_type": "code",
        "outputId": "b09d16f8-9970-4836-af93-c7dc09a9b78c",
        "colab": {
          "base_uri": "https://localhost:8080/",
          "height": 369
        }
      },
      "source": [
        "for features,label in packed_ds.batch(1000).take(1):\n",
        "  print(features[0])\n",
        "  plt.hist(features.numpy().flatten(), bins = 101)"
      ],
      "execution_count": 9,
      "outputs": [
        {
          "output_type": "stream",
          "text": [
            "tf.Tensor(\n",
            "[ 0.8692932  -0.6350818   0.22569026  0.32747006 -0.6899932   0.75420225\n",
            " -0.24857314 -1.0920639   0.          1.3749921  -0.6536742   0.9303491\n",
            "  1.1074361   1.1389043  -1.5781983  -1.0469854   0.          0.65792954\n",
            " -0.01045457 -0.04576717  3.1019614   1.35376     0.9795631   0.97807616\n",
            "  0.92000484  0.72165745  0.98875093  0.87667835], shape=(28,), dtype=float32)\n"
          ],
          "name": "stdout"
        },
        {
          "output_type": "display_data",
          "data": {
            "image/png": "[encoded data removed]",
            "text/plain": [
              "<Figure size 432x288 with 1 Axes>"
            ]
          },
          "metadata": {
            "tags": []
          }
        }
      ]
    },
    {
      "cell_type": "code",
      "metadata": {
        "id": "Q8aYQa46J0nb",
        "colab_type": "code",
        "colab": {}
      },
      "source": [
        "N_VALIDATION = int(1e3)\n",
        "N_TRAIN = int(1e4)\n",
        "BUFFER_SIZE = int(1e4)\n",
        "BATCH_SIZE = 500\n",
        "STEPS_PER_EPOCH = N_TRAIN//BATCH_SIZE"
      ],
      "execution_count": 0,
      "outputs": []
    },
    {
      "cell_type": "code",
      "metadata": {
        "id": "06MTvJoUJ9Yt",
        "colab_type": "code",
        "colab": {}
      },
      "source": [
        "validate_ds = packed_ds.take(N_VALIDATION).cache()\n",
        "train_ds = packed_ds.skip(N_VALIDATION).take(N_TRAIN).cache()"
      ],
      "execution_count": 0,
      "outputs": []
    },
    {
      "cell_type": "code",
      "metadata": {
        "id": "9bQkUd2mKKiU",
        "colab_type": "code",
        "outputId": "a4d921f5-61d8-4410-ff26-f0dad63e99bd",
        "colab": {
          "base_uri": "https://localhost:8080/",
          "height": 35
        }
      },
      "source": [
        "train_ds"
      ],
      "execution_count": 13,
      "outputs": [
        {
          "output_type": "execute_result",
          "data": {
            "text/plain": [
              "<CacheDataset shapes: ((28,), ()), types: (tf.float32, tf.float32)>"
            ]
          },
          "metadata": {
            "tags": []
          },
          "execution_count": 13
        }
      ]
    },
    {
      "cell_type": "code",
      "metadata": {
        "id": "uxA8HS4kKMsF",
        "colab_type": "code",
        "colab": {}
      },
      "source": [
        "validate_ds = validate_ds.batch(BATCH_SIZE)\n",
        "train_ds = train_ds.shuffle(BUFFER_SIZE).repeat().batch(BATCH_SIZE)"
      ],
      "execution_count": 0,
      "outputs": []
    },
    {
      "cell_type": "code",
      "metadata": {
        "id": "-KnM4KPhKZFc",
        "colab_type": "code",
        "outputId": "10e3a2f1-4b80-4389-a5f0-c0a6cca31187",
        "colab": {
          "base_uri": "https://localhost:8080/",
          "height": 388
        }
      },
      "source": [
        "# Model\n",
        "\n",
        "lr_schedule = tf.keras.optimizers.schedules.InverseTimeDecay(\n",
        "  0.001,\n",
        "  decay_steps=STEPS_PER_EPOCH*1000,\n",
        "  decay_rate=1,\n",
        "  staircase=False)\n",
        "\n",
        "def get_optimizer():\n",
        "  return tf.keras.optimizers.Adam(lr_schedule)\n",
        "\n",
        "step = np.linspace(0,100000)\n",
        "lr = lr_schedule(step)\n",
        "plt.figure(figsize = (8,6))\n",
        "plt.plot(step/STEPS_PER_EPOCH, lr)\n",
        "plt.ylim([0,max(plt.ylim())])\n",
        "plt.xlabel('Epoch')\n",
        "_ = plt.ylabel('Learning Rate')\n"
      ],
      "execution_count": 15,
      "outputs": [
        {
          "output_type": "display_data",
          "data": {
            "image/png": "[encoded data removed]",
            "text/plain": [
              "<Figure size 576x432 with 1 Axes>"
            ]
          },
          "metadata": {
            "tags": []
          }
        }
      ]
    },
    {
      "cell_type": "code",
      "metadata": {
        "id": "RNzbi9VwLPz8",
        "colab_type": "code",
        "colab": {}
      },
      "source": [
        "def get_callbacks(name):\n",
        "  return [\n",
        "    tfdocs.modeling.EpochDots(),\n",
        "    tf.keras.callbacks.EarlyStopping(monitor='val_binary_crossentropy', patience=200),\n",
        "    tf.keras.callbacks.TensorBoard(logdir/name),\n",
        "  ]"
      ],
      "execution_count": 0,
      "outputs": []
    },
    {
      "cell_type": "code",
      "metadata": {
        "id": "FXGi55VgLQv-",
        "colab_type": "code",
        "colab": {}
      },
      "source": [
        "def compile_and_fit(model, name, optimizer=None, max_epochs=10000):\n",
        "  if optimizer is None:\n",
        "    optimizer = get_optimizer()\n",
        "  model.compile(optimizer=optimizer,\n",
        "                loss=tf.keras.losses.BinaryCrossentropy(from_logits=True),\n",
        "                metrics=[\n",
        "                  tf.keras.losses.BinaryCrossentropy(\n",
        "                      from_logits=True, name='binary_crossentropy'),\n",
        "                  'accuracy'])\n",
        "\n",
        "  model.summary()\n",
        "\n",
        "  history = model.fit(\n",
        "    train_ds,\n",
        "    steps_per_epoch = STEPS_PER_EPOCH,\n",
        "    epochs=max_epochs,\n",
        "    validation_data=validate_ds,\n",
        "    callbacks=get_callbacks(name),\n",
        "    verbose=0)\n",
        "  return history"
      ],
      "execution_count": 0,
      "outputs": []
    },
    {
      "cell_type": "code",
      "metadata": {
        "id": "HZZqJEJCLl9d",
        "colab_type": "code",
        "colab": {}
      },
      "source": [
        "# Tiny model\n",
        "tiny_model = tf.keras.Sequential([\n",
        "    layers.Dense(16, activation='elu', input_shape=(FEATURES,)),\n",
        "    layers.Dense(1)\n",
        "])"
      ],
      "execution_count": 0,
      "outputs": []
    },
    {
      "cell_type": "code",
      "metadata": {
        "id": "GSXFq3OaLpdt",
        "colab_type": "code",
        "colab": {}
      },
      "source": [
        "size_histories = {}"
      ],
      "execution_count": 0,
      "outputs": []
    },
    {
      "cell_type": "code",
      "metadata": {
        "id": "V802qKsILuN2",
        "colab_type": "code",
        "outputId": "db81f1f9-1feb-4aa5-f072-da8bad50ac4b",
        "colab": {
          "base_uri": "https://localhost:8080/",
          "height": 1000
        }
      },
      "source": [
        "size_histories['Tiny'] = compile_and_fit(tiny_model, 'sizes/Tiny')"
      ],
      "execution_count": 20,
      "outputs": [
        {
          "output_type": "stream",
          "text": [
            "Model: \"sequential\"\n",
            "_________________________________________________________________\n",
            "Layer (type)                 Output Shape              Param #   \n",
            "=================================================================\n",
            "dense (Dense)                (None, 16)                464       \n",
            "_________________________________________________________________\n",
            "dense_1 (Dense)              (None, 1)                 17        \n",
            "=================================================================\n",
            "Total params: 481\n",
            "Trainable params: 481\n",
            "Non-trainable params: 0\n",
            "_________________________________________________________________\n",
            "\n",
            "Epoch: 0, accuracy:0.4931,  binary_crossentropy:0.7723,  loss:0.7723,  val_accuracy:0.4750,  val_binary_crossentropy:0.7702,  val_loss:0.7702,  \n",
            "....................................................................................................\n",
            "Epoch: 100, accuracy:0.5821,  binary_crossentropy:0.6324,  loss:0.6324,  val_accuracy:0.5770,  val_binary_crossentropy:0.6318,  val_loss:0.6318,  \n",
            "....................................................................................................\n",
            "Epoch: 200, accuracy:0.6064,  binary_crossentropy:0.6201,  loss:0.6201,  val_accuracy:0.6080,  val_binary_crossentropy:0.6176,  val_loss:0.6176,  \n",
            "....................................................................................................\n",
            "Epoch: 300, accuracy:0.6275,  binary_crossentropy:0.6104,  loss:0.6104,  val_accuracy:0.5950,  val_binary_crossentropy:0.6107,  val_loss:0.6107,  \n",
            "....................................................................................................\n",
            "Epoch: 400, accuracy:0.6403,  binary_crossentropy:0.6027,  loss:0.6027,  val_accuracy:0.6300,  val_binary_crossentropy:0.6001,  val_loss:0.6001,  \n",
            "....................................................................................................\n",
            "Epoch: 500, accuracy:0.6498,  binary_crossentropy:0.5957,  loss:0.5957,  val_accuracy:0.6620,  val_binary_crossentropy:0.5926,  val_loss:0.5926,  \n",
            "....................................................................................................\n",
            "Epoch: 600, accuracy:0.6598,  binary_crossentropy:0.5909,  loss:0.5909,  val_accuracy:0.6650,  val_binary_crossentropy:0.5898,  val_loss:0.5898,  \n",
            "....................................................................................................\n",
            "Epoch: 700, accuracy:0.6697,  binary_crossentropy:0.5875,  loss:0.5875,  val_accuracy:0.6590,  val_binary_crossentropy:0.5878,  val_loss:0.5878,  \n",
            "....................................................................................................\n",
            "Epoch: 800, accuracy:0.6691,  binary_crossentropy:0.5850,  loss:0.5850,  val_accuracy:0.6660,  val_binary_crossentropy:0.5863,  val_loss:0.5863,  \n",
            "....................................................................................................\n",
            "Epoch: 900, accuracy:0.6729,  binary_crossentropy:0.5819,  loss:0.5819,  val_accuracy:0.6750,  val_binary_crossentropy:0.5839,  val_loss:0.5839,  \n",
            "....................................................................................................\n",
            "Epoch: 1000, accuracy:0.6770,  binary_crossentropy:0.5799,  loss:0.5799,  val_accuracy:0.6560,  val_binary_crossentropy:0.5841,  val_loss:0.5841,  \n",
            "....................................................................................................\n",
            "Epoch: 1100, accuracy:0.6774,  binary_crossentropy:0.5784,  loss:0.5784,  val_accuracy:0.6530,  val_binary_crossentropy:0.5834,  val_loss:0.5834,  \n",
            "....................................................................................................\n",
            "Epoch: 1200, accuracy:0.6793,  binary_crossentropy:0.5760,  loss:0.5760,  val_accuracy:0.6580,  val_binary_crossentropy:0.5821,  val_loss:0.5821,  \n",
            "....................................................................................................\n",
            "Epoch: 1300, accuracy:0.6812,  binary_crossentropy:0.5747,  loss:0.5747,  val_accuracy:0.6640,  val_binary_crossentropy:0.5811,  val_loss:0.5811,  \n",
            "....................................................................................................\n",
            "Epoch: 1400, accuracy:0.6808,  binary_crossentropy:0.5736,  loss:0.5736,  val_accuracy:0.6710,  val_binary_crossentropy:0.5804,  val_loss:0.5804,  \n",
            "....................................................................................................\n",
            "Epoch: 1500, accuracy:0.6824,  binary_crossentropy:0.5722,  loss:0.5722,  val_accuracy:0.6660,  val_binary_crossentropy:0.5803,  val_loss:0.5803,  \n",
            "....................................................................................................\n",
            "Epoch: 1600, accuracy:0.6797,  binary_crossentropy:0.5718,  loss:0.5718,  val_accuracy:0.6690,  val_binary_crossentropy:0.5801,  val_loss:0.5801,  \n",
            "....................................................................................................\n",
            "Epoch: 1700, accuracy:0.6825,  binary_crossentropy:0.5705,  loss:0.5705,  val_accuracy:0.6660,  val_binary_crossentropy:0.5796,  val_loss:0.5796,  \n",
            "....................................................................................................\n",
            "Epoch: 1800, accuracy:0.6855,  binary_crossentropy:0.5698,  loss:0.5698,  val_accuracy:0.6700,  val_binary_crossentropy:0.5792,  val_loss:0.5792,  \n",
            "....................................................................................................\n",
            "Epoch: 1900, accuracy:0.6826,  binary_crossentropy:0.5689,  loss:0.5689,  val_accuracy:0.6690,  val_binary_crossentropy:0.5787,  val_loss:0.5787,  \n",
            "....................................................................................................\n",
            "Epoch: 2000, accuracy:0.6862,  binary_crossentropy:0.5680,  loss:0.5680,  val_accuracy:0.6660,  val_binary_crossentropy:0.5784,  val_loss:0.5784,  \n",
            "....................................................................................................\n",
            "Epoch: 2100, accuracy:0.6884,  binary_crossentropy:0.5674,  loss:0.5674,  val_accuracy:0.6640,  val_binary_crossentropy:0.5787,  val_loss:0.5787,  \n",
            "....................................................................................................\n",
            "Epoch: 2200, accuracy:0.6885,  binary_crossentropy:0.5667,  loss:0.5667,  val_accuracy:0.6650,  val_binary_crossentropy:0.5791,  val_loss:0.5791,  \n",
            "....................................................................................................\n",
            "Epoch: 2300, accuracy:0.6846,  binary_crossentropy:0.5670,  loss:0.5670,  val_accuracy:0.6630,  val_binary_crossentropy:0.5789,  val_loss:0.5789,  \n",
            "....................................................................................................\n",
            "Epoch: 2400, accuracy:0.6840,  binary_crossentropy:0.5658,  loss:0.5658,  val_accuracy:0.6650,  val_binary_crossentropy:0.5785,  val_loss:0.5785,  \n",
            "....................................................................................................\n",
            "Epoch: 2500, accuracy:0.6871,  binary_crossentropy:0.5652,  loss:0.5652,  val_accuracy:0.6640,  val_binary_crossentropy:0.5784,  val_loss:0.5784,  \n",
            "....................................................................................................\n",
            "Epoch: 2600, accuracy:0.6882,  binary_crossentropy:0.5647,  loss:0.5647,  val_accuracy:0.6560,  val_binary_crossentropy:0.5794,  val_loss:0.5794,  \n",
            "....................................................................................................\n",
            "Epoch: 2700, accuracy:0.6900,  binary_crossentropy:0.5643,  loss:0.5643,  val_accuracy:0.6590,  val_binary_crossentropy:0.5788,  val_loss:0.5788,  \n",
            "....................................................................................................\n",
            "Epoch: 2800, accuracy:0.6874,  binary_crossentropy:0.5638,  loss:0.5638,  val_accuracy:0.6750,  val_binary_crossentropy:0.5778,  val_loss:0.5778,  \n",
            "....................................................................................................\n",
            "Epoch: 2900, accuracy:0.6893,  binary_crossentropy:0.5636,  loss:0.5636,  val_accuracy:0.6620,  val_binary_crossentropy:0.5782,  val_loss:0.5782,  \n",
            "....................................................................................................\n",
            "Epoch: 3000, accuracy:0.6897,  binary_crossentropy:0.5630,  loss:0.5630,  val_accuracy:0.6620,  val_binary_crossentropy:0.5781,  val_loss:0.5781,  \n",
            "....................................................................................................\n",
            "Epoch: 3100, accuracy:0.6900,  binary_crossentropy:0.5628,  loss:0.5628,  val_accuracy:0.6650,  val_binary_crossentropy:0.5775,  val_loss:0.5775,  \n",
            "....................................................................................................\n",
            "Epoch: 3200, accuracy:0.6889,  binary_crossentropy:0.5627,  loss:0.5627,  val_accuracy:0.6650,  val_binary_crossentropy:0.5781,  val_loss:0.5781,  \n",
            "....................................................................................................\n",
            "Epoch: 3300, accuracy:0.6898,  binary_crossentropy:0.5621,  loss:0.5621,  val_accuracy:0.6670,  val_binary_crossentropy:0.5774,  val_loss:0.5774,  \n",
            "....................................................................................................\n",
            "Epoch: 3400, accuracy:0.6904,  binary_crossentropy:0.5619,  loss:0.5619,  val_accuracy:0.6670,  val_binary_crossentropy:0.5774,  val_loss:0.5774,  \n",
            "....................................................................................................\n",
            "Epoch: 3500, accuracy:0.6918,  binary_crossentropy:0.5616,  loss:0.5616,  val_accuracy:0.6670,  val_binary_crossentropy:0.5775,  val_loss:0.5775,  \n",
            "....................................................................................................\n",
            "Epoch: 3600, accuracy:0.6912,  binary_crossentropy:0.5612,  loss:0.5612,  val_accuracy:0.6680,  val_binary_crossentropy:0.5772,  val_loss:0.5772,  \n",
            "....................................................................................................\n",
            "Epoch: 3700, accuracy:0.6885,  binary_crossentropy:0.5616,  loss:0.5616,  val_accuracy:0.6730,  val_binary_crossentropy:0.5765,  val_loss:0.5765,  \n",
            "....................................................................................................\n",
            "Epoch: 3800, accuracy:0.6875,  binary_crossentropy:0.5608,  loss:0.5608,  val_accuracy:0.6680,  val_binary_crossentropy:0.5767,  val_loss:0.5767,  \n",
            "..................................................."
          ],
          "name": "stdout"
        }
      ]
    },
    {
      "cell_type": "code",
      "metadata": {
        "id": "DPplFaBbLv0Y",
        "colab_type": "code",
        "outputId": "1e17f0ed-74c3-4ef7-ae5f-4da4064b3175",
        "colab": {
          "base_uri": "https://localhost:8080/",
          "height": 301
        }
      },
      "source": [
        "plotter = tfdocs.plots.HistoryPlotter(metric = 'binary_crossentropy', smoothing_std=10)\n",
        "plotter.plot(size_histories)\n",
        "plt.ylim([0.5, 0.7])"
      ],
      "execution_count": 21,
      "outputs": [
        {
          "output_type": "execute_result",
          "data": {
            "text/plain": [
              "(0.5, 0.7)"
            ]
          },
          "metadata": {
            "tags": []
          },
          "execution_count": 21
        },
        {
          "output_type": "display_data",
          "data": {
            "image/png": "[encoded data removed]",
            "text/plain": [
              "<Figure size 432x288 with 1 Axes>"
            ]
          },
          "metadata": {
            "tags": []
          }
        }
      ]
    },
    {
      "cell_type": "code",
      "metadata": {
        "id": "uA-bNQjYNXKf",
        "colab_type": "code",
        "colab": {}
      },
      "source": [
        "# Small model\n",
        "small_model = tf.keras.Sequential([\n",
        "    # `input_shape` is only required here so that `.summary` works.\n",
        "    layers.Dense(16, activation='elu', input_shape=(FEATURES,)),\n",
        "    layers.Dense(16, activation='elu'),\n",
        "    layers.Dense(1)\n",
        "])"
      ],
      "execution_count": 0,
      "outputs": []
    },
    {
      "cell_type": "code",
      "metadata": {
        "id": "uz05mGLsNc-l",
        "colab_type": "code",
        "outputId": "0a2910de-0c11-4673-e86a-4ebf4539ae67",
        "colab": {
          "base_uri": "https://localhost:8080/",
          "height": 659
        }
      },
      "source": [
        "size_histories['Small'] = compile_and_fit(small_model, 'sizes/Small')"
      ],
      "execution_count": 23,
      "outputs": [
        {
          "output_type": "stream",
          "text": [
            "Model: \"sequential_1\"\n",
            "_________________________________________________________________\n",
            "Layer (type)                 Output Shape              Param #   \n",
            "=================================================================\n",
            "dense_2 (Dense)              (None, 16)                464       \n",
            "_________________________________________________________________\n",
            "dense_3 (Dense)              (None, 16)                272       \n",
            "_________________________________________________________________\n",
            "dense_4 (Dense)              (None, 1)                 17        \n",
            "=================================================================\n",
            "Total params: 753\n",
            "Trainable params: 753\n",
            "Non-trainable params: 0\n",
            "_________________________________________________________________\n",
            "\n",
            "Epoch: 0, accuracy:0.4989,  binary_crossentropy:0.7534,  loss:0.7534,  val_accuracy:0.4900,  val_binary_crossentropy:0.7085,  val_loss:0.7085,  \n",
            "....................................................................................................\n",
            "Epoch: 100, accuracy:0.6182,  binary_crossentropy:0.6153,  loss:0.6153,  val_accuracy:0.5750,  val_binary_crossentropy:0.6236,  val_loss:0.6236,  \n",
            "....................................................................................................\n",
            "Epoch: 200, accuracy:0.6514,  binary_crossentropy:0.5956,  loss:0.5956,  val_accuracy:0.6340,  val_binary_crossentropy:0.5982,  val_loss:0.5982,  \n",
            "....................................................................................................\n",
            "Epoch: 300, accuracy:0.6740,  binary_crossentropy:0.5850,  loss:0.5850,  val_accuracy:0.6510,  val_binary_crossentropy:0.5885,  val_loss:0.5885,  \n",
            "....................................................................................................\n",
            "Epoch: 400, accuracy:0.6739,  binary_crossentropy:0.5757,  loss:0.5757,  val_accuracy:0.6610,  val_binary_crossentropy:0.5856,  val_loss:0.5856,  \n",
            "....................................................................................................\n",
            "Epoch: 500, accuracy:0.6835,  binary_crossentropy:0.5703,  loss:0.5703,  val_accuracy:0.6780,  val_binary_crossentropy:0.5839,  val_loss:0.5839,  \n",
            "....................................................................................................\n",
            "Epoch: 600, accuracy:0.6850,  binary_crossentropy:0.5669,  loss:0.5669,  val_accuracy:0.6780,  val_binary_crossentropy:0.5822,  val_loss:0.5822,  \n",
            "....................................................................................................\n",
            "Epoch: 700, accuracy:0.6882,  binary_crossentropy:0.5644,  loss:0.5644,  val_accuracy:0.6820,  val_binary_crossentropy:0.5813,  val_loss:0.5813,  \n",
            "....................................................................................................\n",
            "Epoch: 800, accuracy:0.6912,  binary_crossentropy:0.5610,  loss:0.5610,  val_accuracy:0.6800,  val_binary_crossentropy:0.5819,  val_loss:0.5819,  \n",
            "....................................................................................................\n",
            "Epoch: 900, accuracy:0.6926,  binary_crossentropy:0.5591,  loss:0.5591,  val_accuracy:0.6700,  val_binary_crossentropy:0.5860,  val_loss:0.5860,  \n",
            "....................................................................................................\n",
            "Epoch: 1000, accuracy:0.6931,  binary_crossentropy:0.5582,  loss:0.5582,  val_accuracy:0.6660,  val_binary_crossentropy:0.5863,  val_loss:0.5863,  \n",
            "..................."
          ],
          "name": "stdout"
        }
      ]
    },
    {
      "cell_type": "code",
      "metadata": {
        "id": "OglPN9RlNdVi",
        "colab_type": "code",
        "colab": {}
      },
      "source": [
        "# Medium model\n",
        "medium_model = tf.keras.Sequential([\n",
        "    layers.Dense(64, activation='elu', input_shape=(FEATURES,)),\n",
        "    layers.Dense(64, activation='elu'),\n",
        "    layers.Dense(64, activation='elu'),\n",
        "    layers.Dense(1)\n",
        "])"
      ],
      "execution_count": 0,
      "outputs": []
    },
    {
      "cell_type": "code",
      "metadata": {
        "id": "twONmRF2Nw6M",
        "colab_type": "code",
        "outputId": "fd00ad8a-d60f-40c1-8ed6-572701b90c87",
        "colab": {
          "base_uri": "https://localhost:8080/",
          "height": 416
        }
      },
      "source": [
        "size_histories['Medium']  = compile_and_fit(medium_model, \"sizes/Medium\")"
      ],
      "execution_count": 25,
      "outputs": [
        {
          "output_type": "stream",
          "text": [
            "Model: \"sequential_2\"\n",
            "_________________________________________________________________\n",
            "Layer (type)                 Output Shape              Param #   \n",
            "=================================================================\n",
            "dense_5 (Dense)              (None, 64)                1856      \n",
            "_________________________________________________________________\n",
            "dense_6 (Dense)              (None, 64)                4160      \n",
            "_________________________________________________________________\n",
            "dense_7 (Dense)              (None, 64)                4160      \n",
            "_________________________________________________________________\n",
            "dense_8 (Dense)              (None, 1)                 65        \n",
            "=================================================================\n",
            "Total params: 10,241\n",
            "Trainable params: 10,241\n",
            "Non-trainable params: 0\n",
            "_________________________________________________________________\n",
            "\n",
            "Epoch: 0, accuracy:0.4785,  binary_crossentropy:0.7492,  loss:0.7492,  val_accuracy:0.4750,  val_binary_crossentropy:0.6869,  val_loss:0.6869,  \n",
            "....................................................................................................\n",
            "Epoch: 100, accuracy:0.7047,  binary_crossentropy:0.5429,  loss:0.5429,  val_accuracy:0.6530,  val_binary_crossentropy:0.5957,  val_loss:0.5957,  \n",
            "....................................................................................................\n",
            "Epoch: 200, accuracy:0.7668,  binary_crossentropy:0.4578,  loss:0.4578,  val_accuracy:0.6500,  val_binary_crossentropy:0.6617,  val_loss:0.6617,  \n",
            "........................................................................."
          ],
          "name": "stdout"
        }
      ]
    },
    {
      "cell_type": "code",
      "metadata": {
        "id": "g_-o2vWNNyY6",
        "colab_type": "code",
        "colab": {}
      },
      "source": [
        "# Large model\n",
        "large_model = tf.keras.Sequential([\n",
        "    layers.Dense(512, activation='elu', input_shape=(FEATURES,)),\n",
        "    layers.Dense(512, activation='elu'),\n",
        "    layers.Dense(512, activation='elu'),\n",
        "    layers.Dense(512, activation='elu'),\n",
        "    layers.Dense(1)\n",
        "])"
      ],
      "execution_count": 0,
      "outputs": []
    },
    {
      "cell_type": "code",
      "metadata": {
        "id": "XSqvUe8yOBw8",
        "colab_type": "code",
        "outputId": "1170c59f-e39e-44cf-d3f0-b40574922f3c",
        "colab": {
          "base_uri": "https://localhost:8080/",
          "height": 451
        }
      },
      "source": [
        "size_histories['large'] = compile_and_fit(large_model, \"sizes/large\")"
      ],
      "execution_count": 27,
      "outputs": [
        {
          "output_type": "stream",
          "text": [
            "Model: \"sequential_3\"\n",
            "_________________________________________________________________\n",
            "Layer (type)                 Output Shape              Param #   \n",
            "=================================================================\n",
            "dense_9 (Dense)              (None, 512)               14848     \n",
            "_________________________________________________________________\n",
            "dense_10 (Dense)             (None, 512)               262656    \n",
            "_________________________________________________________________\n",
            "dense_11 (Dense)             (None, 512)               262656    \n",
            "_________________________________________________________________\n",
            "dense_12 (Dense)             (None, 512)               262656    \n",
            "_________________________________________________________________\n",
            "dense_13 (Dense)             (None, 1)                 513       \n",
            "=================================================================\n",
            "Total params: 803,329\n",
            "Trainable params: 803,329\n",
            "Non-trainable params: 0\n",
            "_________________________________________________________________\n",
            "\n",
            "Epoch: 0, accuracy:0.5127,  binary_crossentropy:0.8407,  loss:0.8407,  val_accuracy:0.4770,  val_binary_crossentropy:0.7002,  val_loss:0.7002,  \n",
            "....................................................................................................\n",
            "Epoch: 100, accuracy:1.0000,  binary_crossentropy:0.0024,  loss:0.0024,  val_accuracy:0.6690,  val_binary_crossentropy:1.7433,  val_loss:1.7433,  \n",
            "....................................................................................................\n",
            "Epoch: 200, accuracy:1.0000,  binary_crossentropy:0.0002,  loss:0.0002,  val_accuracy:0.6750,  val_binary_crossentropy:2.3374,  val_loss:2.3374,  \n",
            ".................."
          ],
          "name": "stdout"
        }
      ]
    },
    {
      "cell_type": "code",
      "metadata": {
        "id": "QnJKCyjWODgM",
        "colab_type": "code",
        "outputId": "df175183-d7b1-4528-976f-8dd1abd86f20",
        "colab": {
          "base_uri": "https://localhost:8080/",
          "height": 305
        }
      },
      "source": [
        "plotter.plot(size_histories)\n",
        "a = plt.xscale('log')\n",
        "plt.xlim([5, max(plt.xlim())])\n",
        "plt.ylim([0.5, 0.7])\n",
        "plt.xlabel(\"Epochs [Log Scale]\")"
      ],
      "execution_count": 28,
      "outputs": [
        {
          "output_type": "execute_result",
          "data": {
            "text/plain": [
              "Text(0.5, 0, 'Epochs [Log Scale]')"
            ]
          },
          "metadata": {
            "tags": []
          },
          "execution_count": 28
        },
        {
          "output_type": "display_data",
          "data": {
            "image/png": "[encoded data removed]",
            "text/plain": [
              "<Figure size 432x288 with 1 Axes>"
            ]
          },
          "metadata": {
            "tags": []
          }
        }
      ]
    },
    {
      "cell_type": "code",
      "metadata": {
        "id": "E0A45cARPU29",
        "colab_type": "code",
        "outputId": "86467c11-594c-4320-cf54-8170fccef62b",
        "colab": {
          "base_uri": "https://localhost:8080/",
          "height": 35
        }
      },
      "source": [
        "%tensorboard --logdir {logdir}/sizes"
      ],
      "execution_count": 29,
      "outputs": [
        {
          "output_type": "stream",
          "text": [
            "UsageError: Line magic function `%tensorboard` not found.\n"
          ],
          "name": "stderr"
        }
      ]
    },
    {
      "cell_type": "code",
      "metadata": {
        "id": "9OoCt8k6Pips",
        "colab_type": "code",
        "outputId": "58b0599b-151e-4771-c670-c0eab0859064",
        "colab": {
          "base_uri": "https://localhost:8080/",
          "height": 821
        }
      },
      "source": [
        "display.IFrame(\n",
        "    src=\"https://tensorboard.dev/experiment/vW7jmmF9TmKmy3rbheMQpw/#scalars&_smoothingWeight=0.97\",\n",
        "    width=\"100%\", height=\"800px\")"
      ],
      "execution_count": 30,
      "outputs": [
        {
          "output_type": "execute_result",
          "data": {
            "text/html": [
              "\n",
              "        <iframe\n",
              "            width=\"100%\"\n",
              "            height=\"800px\"\n",
              "            src=\"https://tensorboard.dev/experiment/vW7jmmF9TmKmy3rbheMQpw/#scalars&_smoothingWeight=0.97\"\n",
              "            frameborder=\"0\"\n",
              "            allowfullscreen\n",
              "        ></iframe>\n",
              "        "
            ],
            "text/plain": [
              "<IPython.lib.display.IFrame at 0x7f2642c4f4e0>"
            ]
          },
          "metadata": {
            "tags": []
          },
          "execution_count": 30
        }
      ]
    },
    {
      "cell_type": "code",
      "metadata": {
        "id": "4xRhsNjaPtgs",
        "colab_type": "code",
        "colab": {}
      },
      "source": [
        "# Strategies to prevent overfitting"
      ],
      "execution_count": 0,
      "outputs": []
    },
    {
      "cell_type": "code",
      "metadata": {
        "id": "7coRveS9a3_y",
        "colab_type": "code",
        "colab": {
          "base_uri": "https://localhost:8080/",
          "height": 35
        },
        "outputId": "c904512e-55d0-4cf5-a7a2-00436c4d35ec"
      },
      "source": [
        "shutil.rmtree(logdir/'regularizers/Tiny', ignore_errors=True)\n",
        "shutil.copytree(logdir/'sizes/Tiny', logdir/'regularizers/Tiny')"
      ],
      "execution_count": 32,
      "outputs": [
        {
          "output_type": "execute_result",
          "data": {
            "text/plain": [
              "PosixPath('/tmp/tmpx0n357mi/tensorboard_logs/regularizers/Tiny')"
            ]
          },
          "metadata": {
            "tags": []
          },
          "execution_count": 32
        }
      ]
    },
    {
      "cell_type": "code",
      "metadata": {
        "id": "BClNGmtffwhJ",
        "colab_type": "code",
        "colab": {}
      },
      "source": [
        "# Add weight regularization\n",
        "\n",
        "regularizer_histories = {}\n",
        "regularizer_histories['Tiny'] = size_histories['Tiny']"
      ],
      "execution_count": 0,
      "outputs": []
    },
    {
      "cell_type": "code",
      "metadata": {
        "id": "VhlpoEz1fyp5",
        "colab_type": "code",
        "colab": {
          "base_uri": "https://localhost:8080/",
          "height": 520
        },
        "outputId": "d4874160-3386-4e1a-97de-f44700cdf06f"
      },
      "source": [
        "l2_model = tf.keras.Sequential([\n",
        "    layers.Dense(512, activation='elu',\n",
        "                 kernel_regularizer=regularizers.l2(0.001),\n",
        "                 input_shape=(FEATURES,)),\n",
        "    layers.Dense(512, activation='elu',\n",
        "                 kernel_regularizer=regularizers.l2(0.001)),\n",
        "    layers.Dense(512, activation='elu',\n",
        "                 kernel_regularizer=regularizers.l2(0.001)),\n",
        "    layers.Dense(512, activation='elu',\n",
        "                 kernel_regularizer=regularizers.l2(0.001)),\n",
        "    layers.Dense(1)\n",
        "])\n",
        "\n",
        "regularizer_histories['l2'] = compile_and_fit(l2_model, \"regularizers/l2\")"
      ],
      "execution_count": 34,
      "outputs": [
        {
          "output_type": "stream",
          "text": [
            "Model: \"sequential_4\"\n",
            "_________________________________________________________________\n",
            "Layer (type)                 Output Shape              Param #   \n",
            "=================================================================\n",
            "dense_14 (Dense)             (None, 512)               14848     \n",
            "_________________________________________________________________\n",
            "dense_15 (Dense)             (None, 512)               262656    \n",
            "_________________________________________________________________\n",
            "dense_16 (Dense)             (None, 512)               262656    \n",
            "_________________________________________________________________\n",
            "dense_17 (Dense)             (None, 512)               262656    \n",
            "_________________________________________________________________\n",
            "dense_18 (Dense)             (None, 1)                 513       \n",
            "=================================================================\n",
            "Total params: 803,329\n",
            "Trainable params: 803,329\n",
            "Non-trainable params: 0\n",
            "_________________________________________________________________\n",
            "\n",
            "Epoch: 0, accuracy:0.5063,  binary_crossentropy:0.8249,  loss:2.3509,  val_accuracy:0.4810,  val_binary_crossentropy:0.6830,  val_loss:2.1355,  \n",
            "....................................................................................................\n",
            "Epoch: 100, accuracy:0.6603,  binary_crossentropy:0.5961,  loss:0.6196,  val_accuracy:0.6540,  val_binary_crossentropy:0.5824,  val_loss:0.6060,  \n",
            "....................................................................................................\n",
            "Epoch: 200, accuracy:0.6762,  binary_crossentropy:0.5823,  loss:0.6056,  val_accuracy:0.6610,  val_binary_crossentropy:0.5762,  val_loss:0.5993,  \n",
            "....................................................................................................\n",
            "Epoch: 300, accuracy:0.6852,  binary_crossentropy:0.5723,  loss:0.5965,  val_accuracy:0.6750,  val_binary_crossentropy:0.5758,  val_loss:0.6000,  \n",
            "....................................................................................................\n",
            "Epoch: 400, accuracy:0.6943,  binary_crossentropy:0.5635,  loss:0.5896,  val_accuracy:0.6640,  val_binary_crossentropy:0.5796,  val_loss:0.6061,  \n",
            "........................................"
          ],
          "name": "stdout"
        }
      ]
    },
    {
      "cell_type": "code",
      "metadata": {
        "id": "lULmPme0g7nu",
        "colab_type": "code",
        "colab": {
          "base_uri": "https://localhost:8080/",
          "height": 301
        },
        "outputId": "6398d922-3321-4e9c-b03d-68ac969fe2e8"
      },
      "source": [
        "plotter.plot(regularizer_histories)\n",
        "plt.ylim([0.5, 0.7])"
      ],
      "execution_count": 35,
      "outputs": [
        {
          "output_type": "execute_result",
          "data": {
            "text/plain": [
              "(0.5, 0.7)"
            ]
          },
          "metadata": {
            "tags": []
          },
          "execution_count": 35
        },
        {
          "output_type": "display_data",
          "data": {
            "image/png": "[encoded data removed]",
            "text/plain": [
              "<Figure size 432x288 with 1 Axes>"
            ]
          },
          "metadata": {
            "tags": []
          }
        }
      ]
    },
    {
      "cell_type": "code",
      "metadata": {
        "id": "SQU3KiPJi6S9",
        "colab_type": "code",
        "colab": {}
      },
      "source": [
        "result = l2_model(features)\n",
        "regularization_loss=tf.add_n(l2_model.losses)"
      ],
      "execution_count": 0,
      "outputs": []
    },
    {
      "cell_type": "code",
      "metadata": {
        "id": "TquaQHZkjPRc",
        "colab_type": "code",
        "colab": {
          "base_uri": "https://localhost:8080/",
          "height": 624
        },
        "outputId": "98eb45e1-cf58-47f2-f321-21a85be3c6ee"
      },
      "source": [
        "# Add dropout\n",
        "\n",
        "dropout_model = tf.keras.Sequential([\n",
        "    layers.Dense(512, activation='elu', input_shape=(FEATURES,)),\n",
        "    layers.Dropout(0.5),\n",
        "    layers.Dense(512, activation='elu'),\n",
        "    layers.Dropout(0.5),\n",
        "    layers.Dense(512, activation='elu'),\n",
        "    layers.Dropout(0.5),\n",
        "    layers.Dense(512, activation='elu'),\n",
        "    layers.Dropout(0.5),\n",
        "    layers.Dense(1)\n",
        "])\n",
        "\n",
        "regularizer_histories['dropout'] = compile_and_fit(dropout_model, \"regularizers/dropout\")\n"
      ],
      "execution_count": 37,
      "outputs": [
        {
          "output_type": "stream",
          "text": [
            "Model: \"sequential_5\"\n",
            "_________________________________________________________________\n",
            "Layer (type)                 Output Shape              Param #   \n",
            "=================================================================\n",
            "dense_19 (Dense)             (None, 512)               14848     \n",
            "_________________________________________________________________\n",
            "dropout (Dropout)            (None, 512)               0         \n",
            "_________________________________________________________________\n",
            "dense_20 (Dense)             (None, 512)               262656    \n",
            "_________________________________________________________________\n",
            "dropout_1 (Dropout)          (None, 512)               0         \n",
            "_________________________________________________________________\n",
            "dense_21 (Dense)             (None, 512)               262656    \n",
            "_________________________________________________________________\n",
            "dropout_2 (Dropout)          (None, 512)               0         \n",
            "_________________________________________________________________\n",
            "dense_22 (Dense)             (None, 512)               262656    \n",
            "_________________________________________________________________\n",
            "dropout_3 (Dropout)          (None, 512)               0         \n",
            "_________________________________________________________________\n",
            "dense_23 (Dense)             (None, 1)                 513       \n",
            "=================================================================\n",
            "Total params: 803,329\n",
            "Trainable params: 803,329\n",
            "Non-trainable params: 0\n",
            "_________________________________________________________________\n",
            "\n",
            "Epoch: 0, accuracy:0.4991,  binary_crossentropy:0.8073,  loss:0.8073,  val_accuracy:0.5240,  val_binary_crossentropy:0.6774,  val_loss:0.6774,  \n",
            "....................................................................................................\n",
            "Epoch: 100, accuracy:0.6518,  binary_crossentropy:0.6002,  loss:0.6002,  val_accuracy:0.6970,  val_binary_crossentropy:0.5900,  val_loss:0.5900,  \n",
            "....................................................................................................\n",
            "Epoch: 200, accuracy:0.6828,  binary_crossentropy:0.5594,  loss:0.5594,  val_accuracy:0.6970,  val_binary_crossentropy:0.5776,  val_loss:0.5776,  \n",
            "....................................................................................................\n",
            "Epoch: 300, accuracy:0.7203,  binary_crossentropy:0.5132,  loss:0.5132,  val_accuracy:0.6940,  val_binary_crossentropy:0.5902,  val_loss:0.5902,  \n",
            "......................................................................"
          ],
          "name": "stdout"
        }
      ]
    },
    {
      "cell_type": "code",
      "metadata": {
        "id": "q6md8IsVl-ty",
        "colab_type": "code",
        "colab": {
          "base_uri": "https://localhost:8080/",
          "height": 301
        },
        "outputId": "6b8272b0-f308-4266-ec9e-e2c8c0106308"
      },
      "source": [
        "plotter.plot(regularizer_histories)\n",
        "plt.ylim([0.5, 0.7])"
      ],
      "execution_count": 38,
      "outputs": [
        {
          "output_type": "execute_result",
          "data": {
            "text/plain": [
              "(0.5, 0.7)"
            ]
          },
          "metadata": {
            "tags": []
          },
          "execution_count": 38
        },
        {
          "output_type": "display_data",
          "data": {
            "image/png": "[encoded data removed]",
            "text/plain": [
              "<Figure size 432x288 with 1 Axes>"
            ]
          },
          "metadata": {
            "tags": []
          }
        }
      ]
    },
    {
      "cell_type": "code",
      "metadata": {
        "id": "bA64LD9AmAEe",
        "colab_type": "code",
        "colab": {
          "base_uri": "https://localhost:8080/",
          "height": 797
        },
        "outputId": "5b06ef2b-cda9-4e69-a489-7fa1e19b24bc"
      },
      "source": [
        "combined_model = tf.keras.Sequential([\n",
        "    layers.Dense(512, kernel_regularizer=regularizers.l2(0.0001),\n",
        "                 activation='elu', input_shape=(FEATURES,)),\n",
        "    layers.Dropout(0.5),\n",
        "    layers.Dense(512, kernel_regularizer=regularizers.l2(0.0001),\n",
        "                 activation='elu'),\n",
        "    layers.Dropout(0.5),\n",
        "    layers.Dense(512, kernel_regularizer=regularizers.l2(0.0001),\n",
        "                 activation='elu'),\n",
        "    layers.Dropout(0.5),\n",
        "    layers.Dense(512, kernel_regularizer=regularizers.l2(0.0001),\n",
        "                 activation='elu'),\n",
        "    layers.Dropout(0.5),\n",
        "    layers.Dense(1)\n",
        "])\n",
        "\n",
        "regularizer_histories['combined'] = compile_and_fit(combined_model, \"regularizers/combined\")"
      ],
      "execution_count": 39,
      "outputs": [
        {
          "output_type": "stream",
          "text": [
            "Model: \"sequential_6\"\n",
            "_________________________________________________________________\n",
            "Layer (type)                 Output Shape              Param #   \n",
            "=================================================================\n",
            "dense_24 (Dense)             (None, 512)               14848     \n",
            "_________________________________________________________________\n",
            "dropout_4 (Dropout)          (None, 512)               0         \n",
            "_________________________________________________________________\n",
            "dense_25 (Dense)             (None, 512)               262656    \n",
            "_________________________________________________________________\n",
            "dropout_5 (Dropout)          (None, 512)               0         \n",
            "_________________________________________________________________\n",
            "dense_26 (Dense)             (None, 512)               262656    \n",
            "_________________________________________________________________\n",
            "dropout_6 (Dropout)          (None, 512)               0         \n",
            "_________________________________________________________________\n",
            "dense_27 (Dense)             (None, 512)               262656    \n",
            "_________________________________________________________________\n",
            "dropout_7 (Dropout)          (None, 512)               0         \n",
            "_________________________________________________________________\n",
            "dense_28 (Dense)             (None, 1)                 513       \n",
            "=================================================================\n",
            "Total params: 803,329\n",
            "Trainable params: 803,329\n",
            "Non-trainable params: 0\n",
            "_________________________________________________________________\n",
            "\n",
            "Epoch: 0, accuracy:0.5058,  binary_crossentropy:0.8021,  loss:0.9601,  val_accuracy:0.4690,  val_binary_crossentropy:0.6837,  val_loss:0.8411,  \n",
            "....................................................................................................\n",
            "Epoch: 100, accuracy:0.6535,  binary_crossentropy:0.6056,  loss:0.6353,  val_accuracy:0.6430,  val_binary_crossentropy:0.5865,  val_loss:0.6160,  \n",
            "....................................................................................................\n",
            "Epoch: 200, accuracy:0.6679,  binary_crossentropy:0.5873,  loss:0.6127,  val_accuracy:0.6820,  val_binary_crossentropy:0.5698,  val_loss:0.5953,  \n",
            "....................................................................................................\n",
            "Epoch: 300, accuracy:0.6679,  binary_crossentropy:0.5867,  loss:0.6143,  val_accuracy:0.6570,  val_binary_crossentropy:0.5778,  val_loss:0.6054,  \n",
            "....................................................................................................\n",
            "Epoch: 400, accuracy:0.6704,  binary_crossentropy:0.5783,  loss:0.6080,  val_accuracy:0.6750,  val_binary_crossentropy:0.5660,  val_loss:0.5957,  \n",
            "....................................................................................................\n",
            "Epoch: 500, accuracy:0.6809,  binary_crossentropy:0.5715,  loss:0.6033,  val_accuracy:0.6970,  val_binary_crossentropy:0.5474,  val_loss:0.5791,  \n",
            "....................................................................................................\n",
            "Epoch: 600, accuracy:0.6940,  binary_crossentropy:0.5648,  loss:0.5978,  val_accuracy:0.6930,  val_binary_crossentropy:0.5412,  val_loss:0.5742,  \n",
            "....................................................................................................\n",
            "Epoch: 700, accuracy:0.6869,  binary_crossentropy:0.5622,  loss:0.5969,  val_accuracy:0.6910,  val_binary_crossentropy:0.5457,  val_loss:0.5804,  \n",
            "....................................................................................................\n",
            "Epoch: 800, accuracy:0.6925,  binary_crossentropy:0.5595,  loss:0.5960,  val_accuracy:0.6870,  val_binary_crossentropy:0.5512,  val_loss:0.5877,  \n",
            "..............................................................................."
          ],
          "name": "stdout"
        }
      ]
    },
    {
      "cell_type": "code",
      "metadata": {
        "id": "iMSV7zrSmCwQ",
        "colab_type": "code",
        "colab": {
          "base_uri": "https://localhost:8080/",
          "height": 301
        },
        "outputId": "e896b07b-3881-49e2-a4ff-5a608d877d38"
      },
      "source": [
        "plotter.plot(regularizer_histories)\n",
        "plt.ylim([0.5, 0.7])"
      ],
      "execution_count": 40,
      "outputs": [
        {
          "output_type": "execute_result",
          "data": {
            "text/plain": [
              "(0.5, 0.7)"
            ]
          },
          "metadata": {
            "tags": []
          },
          "execution_count": 40
        },
        {
          "output_type": "display_data",
          "data": {
            "image/png": "[encoded data removed]",
            "text/plain": [
              "<Figure size 432x288 with 1 Axes>"
            ]
          },
          "metadata": {
            "tags": []
          }
        }
      ]
    },
    {
      "cell_type": "code",
      "metadata": {
        "id": "YGtH4eQ0mJmf",
        "colab_type": "code",
        "colab": {}
      },
      "source": [
        ""
      ],
      "execution_count": 0,
      "outputs": []
    }
  ]
}